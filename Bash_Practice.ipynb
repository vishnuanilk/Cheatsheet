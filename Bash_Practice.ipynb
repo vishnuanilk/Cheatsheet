{
  "nbformat": 4,
  "nbformat_minor": 0,
  "metadata": {
    "colab": {
      "provenance": [],
      "collapsed_sections": [
        "ycW4cMDC2QI6",
        "4UZVhvgyB285",
        "w2TPTRVBwC-A",
        "RtcFc4Gi08NJ",
        "H6_EGmUsCBrr",
        "obgzAtHpCItQ",
        "75I9Ku-737lD",
        "RXE-Tna-4IwJ",
        "L0vF29TZ5R1T",
        "TucdceLf64NJ",
        "oQ2fNHSnR1S6",
        "zsceUOC0SWg2",
        "vCOJUOLbMEiF"
      ],
      "toc_visible": true,
      "authorship_tag": "ABX9TyPARaHQuCHcsTRqJU8SI+st",
      "include_colab_link": true
    },
    "kernelspec": {
      "name": "python3",
      "display_name": "Python 3"
    },
    "language_info": {
      "name": "python"
    }
  },
  "cells": [
    {
      "cell_type": "markdown",
      "metadata": {
        "id": "view-in-github",
        "colab_type": "text"
      },
      "source": [
        "<a href=\"https://colab.research.google.com/github/vishnuanilk/Cheatsheet/blob/main/Bash_Practice.ipynb\" target=\"_parent\"><img src=\"https://colab.research.google.com/assets/colab-badge.svg\" alt=\"Open In Colab\"/></a>"
      ]
    },
    {
      "cell_type": "markdown",
      "source": [
        "# **Bash**\n",
        "<figure>\n",
        "<img src=\"https://encrypted-tbn0.gstatic.com/images?q=tbn:ANd9GcTjUTtSNpJoK3q0DH_BjlSbGe4a7eE7m3S65Q&s\" width=650 height=350>\n",
        "<figcaption align=\"left\"> Bash is a command line interface that is used to interact to various aspects of the computer\n",
        "</figure>\n"
      ],
      "metadata": {
        "id": "p7SaWD85m6kV"
      }
    },
    {
      "cell_type": "markdown",
      "source": [
        "## <u>**File Management**</u>"
      ],
      "metadata": {
        "id": "ycW4cMDC2QI6"
      }
    },
    {
      "cell_type": "markdown",
      "source": [
        " ### **1.**ls"
      ],
      "metadata": {
        "id": "4UZVhvgyB285"
      }
    },
    {
      "cell_type": "markdown",
      "source": [
        "\n",
        "\n",
        "\n",
        "  #### The `ls` command  list  information about the FILEs (the current directory by default).\n",
        "\n",
        "`\n",
        "ls [options][directory]\n",
        "`\n",
        "<br>\n",
        "The common used options are\n",
        "* <code>-a</code> : Show hidden files and directories that start with . in addition to non-hidden items.\n",
        "* <code>-l</code> :  Display results in long format, showing extra details like permissions, ownership, size, and modification date for each file and directory.\n",
        "* <code>-s</code> : Sort results by file size, largest first.\n",
        "\n"
      ],
      "metadata": {
        "id": "w2TPTRVBwC-A"
      }
    },
    {
      "cell_type": "markdown",
      "source": [
        "#### Examples"
      ],
      "metadata": {
        "id": "RtcFc4Gi08NJ"
      }
    },
    {
      "cell_type": "code",
      "source": [
        "!ls -l"
      ],
      "metadata": {
        "colab": {
          "base_uri": "https://localhost:8080/"
        },
        "id": "2YQ8d_292s8-",
        "outputId": "fb808986-b78a-4b4b-a2c1-ceefb560b66f"
      },
      "execution_count": null,
      "outputs": [
        {
          "output_type": "stream",
          "name": "stdout",
          "text": [
            "total 4\n",
            "drwxr-xr-x 1 root root 4096 Aug  6 13:32 sample_data\n"
          ]
        }
      ]
    },
    {
      "cell_type": "code",
      "source": [
        "!ls -s"
      ],
      "metadata": {
        "colab": {
          "base_uri": "https://localhost:8080/"
        },
        "id": "tzcnkXks2rGT",
        "outputId": "aaee2d98-b5ac-419e-a7c8-98759197ebbc"
      },
      "execution_count": null,
      "outputs": [
        {
          "output_type": "stream",
          "name": "stdout",
          "text": [
            "total 4\n",
            "4 sample_data  0 test4.txt  0 test.txt\n"
          ]
        }
      ]
    },
    {
      "cell_type": "code",
      "source": [
        "!ls -a"
      ],
      "metadata": {
        "colab": {
          "base_uri": "https://localhost:8080/"
        },
        "id": "-XN4U79d2pNN",
        "outputId": "0f731490-7dc1-402c-cf63-f436dc2d4950"
      },
      "execution_count": null,
      "outputs": [
        {
          "output_type": "stream",
          "name": "stdout",
          "text": [
            ".  ..  .config\tsample_data  test4.txt\ttest.txt\n"
          ]
        }
      ]
    },
    {
      "cell_type": "markdown",
      "source": [
        "### **2.**cd"
      ],
      "metadata": {
        "id": "H6_EGmUsCBrr"
      }
    },
    {
      "cell_type": "markdown",
      "source": [
        "\n",
        "#### The cd command is used to navigate between directories. It allows you to move the current working directory to a new location in the filesystem.\n",
        "\n",
        "`cd [directory]`\n",
        "\n",
        "\n"
      ],
      "metadata": {
        "id": "k8HeVY0B2b-U"
      }
    },
    {
      "cell_type": "markdown",
      "source": [
        "#### Examples"
      ],
      "metadata": {
        "id": "ZxOgFM7b22Id"
      }
    },
    {
      "cell_type": "code",
      "source": [
        "!cd /content/sample_data"
      ],
      "metadata": {
        "id": "bfS9hSZd23UW"
      },
      "execution_count": null,
      "outputs": []
    },
    {
      "cell_type": "code",
      "source": [
        "!cd .. #access the previous dir"
      ],
      "metadata": {
        "id": "iSmHMKR2274I"
      },
      "execution_count": null,
      "outputs": []
    },
    {
      "cell_type": "markdown",
      "source": [
        "### **3.**mkdir"
      ],
      "metadata": {
        "id": "obgzAtHpCItQ"
      }
    },
    {
      "cell_type": "markdown",
      "source": [
        "#### Create the DIRECTORY(ies), if they do not already exist.\n",
        "\n",
        "<ul> <li><code>-p</code> – Creates parent directories recursively as needed.</li> <li><code>-v</code> – Verbose output showing created directories.</li> </ul>\n"
      ],
      "metadata": {
        "id": "Mlr2CfGy3L-B"
      }
    },
    {
      "cell_type": "markdown",
      "source": [
        "#### Examples"
      ],
      "metadata": {
        "id": "aC_vmhhY3hlJ"
      }
    },
    {
      "cell_type": "code",
      "source": [
        "!ls\n",
        "!mkdir test\n",
        "!ls"
      ],
      "metadata": {
        "colab": {
          "base_uri": "https://localhost:8080/"
        },
        "id": "3RiMKeQ73PYG",
        "outputId": "ab6cf9ca-7030-469a-80a8-44d7b7ff5b53"
      },
      "execution_count": null,
      "outputs": [
        {
          "output_type": "stream",
          "name": "stdout",
          "text": [
            "sample_data  test4.txt\ttest.txt\n",
            "sample_data  test  test4.txt  test.txt\n"
          ]
        }
      ]
    },
    {
      "cell_type": "markdown",
      "source": [
        "### **4.**rmdir\n",
        "\n"
      ],
      "metadata": {
        "id": "75I9Ku-737lD"
      }
    },
    {
      "cell_type": "markdown",
      "source": [
        "#### Remove the DIRECTORY(ies), if they are empty.\n",
        "\n",
        "<ul> <li><code>-v</code> – Verbose output when deleting directories.</li> <li><code>-p</code> – Remove parent directories recursively as needed.</li> </ul>"
      ],
      "metadata": {
        "id": "1yOJZoQbCc91"
      }
    },
    {
      "cell_type": "markdown",
      "source": [
        "#### Examples"
      ],
      "metadata": {
        "id": "G7qFLb2-4DwL"
      }
    },
    {
      "cell_type": "code",
      "source": [
        "!ls\n",
        "!rmdir test\n",
        "!ls"
      ],
      "metadata": {
        "colab": {
          "base_uri": "https://localhost:8080/"
        },
        "id": "SaUBwVSx4DH2",
        "outputId": "672aff33-62d0-47f0-dcad-9546e904a398"
      },
      "execution_count": null,
      "outputs": [
        {
          "output_type": "stream",
          "name": "stdout",
          "text": [
            "sample_data  test  test4.txt  test.txt\n",
            "sample_data  test4.txt\ttest.txt\n"
          ]
        }
      ]
    },
    {
      "cell_type": "markdown",
      "source": [
        "### **5.**touch\n"
      ],
      "metadata": {
        "id": "RXE-Tna-4IwJ"
      }
    },
    {
      "cell_type": "markdown",
      "source": [
        "#### Update the access and modification times of each FILE to the current time.\n",
        "\n",
        "<ul> <li><code>-c</code> – Do not create the file if it already exists. This avoids accidentally overwriting existing files.</li> <li><code>-m</code> – Instead of creating a new file, update the timestamp on an existing file. This can be used to change the modified time.</li> </ul>\n"
      ],
      "metadata": {
        "id": "E6foII8iCna9"
      }
    },
    {
      "cell_type": "markdown",
      "source": [
        "#### Exmaple"
      ],
      "metadata": {
        "id": "wF4oqcZj4oim"
      }
    },
    {
      "cell_type": "code",
      "source": [
        "!ls\n",
        "!touch test.txt\n",
        "!ls"
      ],
      "metadata": {
        "colab": {
          "base_uri": "https://localhost:8080/"
        },
        "id": "4kfa_Bvk4Hju",
        "outputId": "1eb36565-8a62-45f1-9d2a-dfc35c34e895"
      },
      "execution_count": null,
      "outputs": [
        {
          "output_type": "stream",
          "name": "stdout",
          "text": [
            "sample_data  test4.txt\ttest.txt\n",
            "sample_data  test4.txt\ttest.txt\n"
          ]
        }
      ]
    },
    {
      "cell_type": "code",
      "source": [],
      "metadata": {
        "id": "QmsmuzYs4tXu"
      },
      "execution_count": null,
      "outputs": []
    },
    {
      "cell_type": "markdown",
      "source": [
        "### **6.**cp\n"
      ],
      "metadata": {
        "id": "L0vF29TZ5R1T"
      }
    },
    {
      "cell_type": "markdown",
      "source": [
        "#### The cp command copies files or directories from one location to another. It requires passing a source path and a destination.\n",
        "\n",
        "`cp [options] [source destination]`\n",
        "\n",
        "<ul> <li><code>-r</code> – Copy directories recursively, descending into child directories to copy their contents as well. Necessary when copying directories.</li> <li><code>-i</code> – Prompt before overwriting any existing files at the destination. It prevents accidentally overwriting data.</li> <li><code>-v</code> – Display verbose output showing the details of each file as it is copied. Helpful to confirm exactly what was copied.</li> </ul>"
      ],
      "metadata": {
        "id": "MhDSUz77DFC7"
      }
    },
    {
      "cell_type": "markdown",
      "source": [
        "#### Example"
      ],
      "metadata": {
        "id": "mw9lX1lw5lg8"
      }
    },
    {
      "cell_type": "code",
      "source": [
        "!ls\n",
        "!cp test.txt test2.txt\n",
        "!ls"
      ],
      "metadata": {
        "colab": {
          "base_uri": "https://localhost:8080/"
        },
        "id": "PwYkzLrA5kgp",
        "outputId": "3db2bad3-8255-4ef8-a438-f25d6ed85394"
      },
      "execution_count": null,
      "outputs": [
        {
          "output_type": "stream",
          "name": "stdout",
          "text": [
            "sample_data  test4.txt\ttest.txt\n",
            "sample_data  test2.txt\ttest4.txt  test.txt\n"
          ]
        }
      ]
    },
    {
      "cell_type": "code",
      "source": [
        "!ls\n",
        "!cp -r test.txt test2.txt\n",
        "!ls"
      ],
      "metadata": {
        "colab": {
          "base_uri": "https://localhost:8080/"
        },
        "id": "4-Jd95yz6aA1",
        "outputId": "21d81821-0270-47a0-93d7-fc52b8d4adc3"
      },
      "execution_count": null,
      "outputs": [
        {
          "output_type": "stream",
          "name": "stdout",
          "text": [
            "sample_data  test2.txt\ttest4.txt  test.txt\n",
            "sample_data  test2.txt\ttest4.txt  test.txt\n"
          ]
        }
      ]
    },
    {
      "cell_type": "code",
      "source": [
        "!ls\n",
        "!cp -i test.txt test2.txt\n",
        "!ls"
      ],
      "metadata": {
        "colab": {
          "base_uri": "https://localhost:8080/"
        },
        "id": "BEduAUnm6gX4",
        "outputId": "b81df226-0174-4dcd-d242-6ae869f4f63e"
      },
      "execution_count": null,
      "outputs": [
        {
          "output_type": "stream",
          "name": "stdout",
          "text": [
            "sample_data  test2.txt\ttest4.txt  test.txt\n",
            "cp: overwrite 'test2.txt'? ^C\n",
            "sample_data  test2.txt\ttest4.txt  test.txt\n"
          ]
        }
      ]
    },
    {
      "cell_type": "code",
      "source": [
        "!ls\n",
        "!cp -v test.txt test2.txt\n",
        "!ls"
      ],
      "metadata": {
        "colab": {
          "base_uri": "https://localhost:8080/"
        },
        "id": "HFIeQCV46uXb",
        "outputId": "8588a078-57ce-402c-b6f7-f3ed05d0430e"
      },
      "execution_count": null,
      "outputs": [
        {
          "output_type": "stream",
          "name": "stdout",
          "text": [
            "sample_data  test2.txt\ttest4.txt  test.txt\n",
            "'test.txt' -> 'test2.txt'\n",
            "sample_data  test2.txt\ttest4.txt  test.txt\n"
          ]
        }
      ]
    },
    {
      "cell_type": "markdown",
      "source": [
        "### **7.**mv\n",
        "\n"
      ],
      "metadata": {
        "id": "TucdceLf64NJ"
      }
    },
    {
      "cell_type": "markdown",
      "source": [
        "#### Rename SOURCE to DEST, or move SOURCE(s) to DIRECTORY.\n",
        "\n",
        " `mv [OPTION]... [-T] SOURCE DEST `\n",
        " <ul> <li><code>-i</code> – Prompt before overwriting any existing files at the destination location. This prevents accidentally overwriting data.</li> <li><code>-v</code> – Produce verbose output showing each file or directory as it is moved. This is helpful for confirming exactly what was moved.</li> </ul>"
      ],
      "metadata": {
        "id": "Zf6XnQjaDJab"
      }
    },
    {
      "cell_type": "markdown",
      "source": [
        "#### Example"
      ],
      "metadata": {
        "id": "SA3TjQTW7ZH6"
      }
    },
    {
      "cell_type": "code",
      "source": [
        "!ls\n",
        "!mv test2.txt test3.txt\n",
        "!ls"
      ],
      "metadata": {
        "colab": {
          "base_uri": "https://localhost:8080/"
        },
        "id": "npptoz3p62ZE",
        "outputId": "475e5918-b2fd-4a3b-92c5-174edd6e6f56"
      },
      "execution_count": null,
      "outputs": [
        {
          "output_type": "stream",
          "name": "stdout",
          "text": [
            "sample_data  test2.txt\ttest4.txt  test.txt\n",
            "sample_data  test3.txt\ttest4.txt  test.txt\n"
          ]
        }
      ]
    },
    {
      "cell_type": "code",
      "source": [
        "!ls\n",
        "!mv -v test3.txt test4.txt\n",
        "!ls"
      ],
      "metadata": {
        "colab": {
          "base_uri": "https://localhost:8080/"
        },
        "id": "LKb_WU5VDSBR",
        "outputId": "13c5a151-456a-4e7d-fb8a-0cb1c322fd19"
      },
      "execution_count": null,
      "outputs": [
        {
          "output_type": "stream",
          "name": "stdout",
          "text": [
            "sample_data  test3.txt\ttest4.txt  test.txt\n",
            "renamed 'test3.txt' -> 'test4.txt'\n",
            "sample_data  test4.txt\ttest.txt\n"
          ]
        }
      ]
    },
    {
      "cell_type": "markdown",
      "source": [
        "### **8.**rm"
      ],
      "metadata": {
        "id": "O6iJ1AlbDlzR"
      }
    },
    {
      "cell_type": "markdown",
      "source": [
        "#### It removes each specified file.  By default, it does not remove directories.\n",
        "<ul> <li><code>-r</code> – Recursively delete directories, including all contents inside them. This is necessary when deleting directories.</li> <li><code>-f</code> – Force deletion and suppress all confirmation prompts. This is a dangerous command, as files cannot be recovered when they’re gone!</li> <li><code>-i</code> – Prompt for confirmation before deleting each file or directory, which provides safety against accidental removal.</li> </ul>"
      ],
      "metadata": {
        "id": "n0gK76KT6_vl"
      }
    },
    {
      "cell_type": "markdown",
      "source": [
        "#### Example"
      ],
      "metadata": {
        "id": "DNVU41oJEVZI"
      }
    },
    {
      "cell_type": "code",
      "source": [
        "!ls\n",
        "!rm test4.txt\n",
        "!ls"
      ],
      "metadata": {
        "colab": {
          "base_uri": "https://localhost:8080/"
        },
        "id": "YkWsDsslEEbY",
        "outputId": "ac7e5792-3264-4df9-eb4f-23d6cbec0454"
      },
      "execution_count": null,
      "outputs": [
        {
          "output_type": "stream",
          "name": "stdout",
          "text": [
            "sample_data  test4.txt\ttest.txt\n",
            "sample_data  test.txt\n"
          ]
        }
      ]
    },
    {
      "cell_type": "code",
      "source": [
        "!ls\n",
        "!rm -r test\n",
        "!ls"
      ],
      "metadata": {
        "colab": {
          "base_uri": "https://localhost:8080/"
        },
        "id": "YvSifXzmEuC0",
        "outputId": "2e0af1c2-3794-44d1-c7db-a7047b0b23fe"
      },
      "execution_count": null,
      "outputs": [
        {
          "output_type": "stream",
          "name": "stdout",
          "text": [
            "sample_data  test.txt\n",
            "rm: cannot remove 'test': No such file or directory\n",
            "sample_data  test.txt\n"
          ]
        }
      ]
    },
    {
      "cell_type": "code",
      "source": [
        "!ls\n",
        "!rm -i test.txt\n",
        "!ls"
      ],
      "metadata": {
        "colab": {
          "base_uri": "https://localhost:8080/"
        },
        "id": "KQLwBEIUFy6i",
        "outputId": "f89763b8-a2e5-4f2c-a563-e4c43c854489"
      },
      "execution_count": null,
      "outputs": [
        {
          "output_type": "stream",
          "name": "stdout",
          "text": [
            "sample_data  test.txt\n",
            "rm: remove regular empty file 'test.txt'? y\n",
            "sample_data\n"
          ]
        }
      ]
    },
    {
      "cell_type": "code",
      "source": [
        "!ls\n",
        "!rm -f test.txt\n",
        "!ls\n"
      ],
      "metadata": {
        "colab": {
          "base_uri": "https://localhost:8080/"
        },
        "id": "Dz2N0uzUF04X",
        "outputId": "9391ccc0-a00a-4290-99d1-6762b9afbd4a"
      },
      "execution_count": null,
      "outputs": [
        {
          "output_type": "stream",
          "name": "stdout",
          "text": [
            "sample_data\n",
            "sample_data\n"
          ]
        }
      ]
    },
    {
      "cell_type": "markdown",
      "source": [
        "### **9.** chmod"
      ],
      "metadata": {
        "id": "oQ2fNHSnR1S6"
      }
    },
    {
      "cell_type": "markdown",
      "source": [
        "#### Change File Modes Or Access Permissions\n",
        "Permissions are set using numeric modes from 0 to 7\n",
        "\n",
        "<ul> <li>7 – read, write, and execute.</li> <li>6 – read and write.</li> <li>4 – read only.</li> <li>0 – no permission.</li> </ul>\n"
      ],
      "metadata": {
        "id": "Emjy6y8IR63h"
      }
    },
    {
      "cell_type": "markdown",
      "source": [
        "#### Example"
      ],
      "metadata": {
        "id": "zsceUOC0SWg2"
      }
    },
    {
      "cell_type": "code",
      "source": [
        "!touch test.txt\n",
        "!ls -l\n",
        "!chmod 777 test.txt\n",
        "!ls -l"
      ],
      "metadata": {
        "colab": {
          "base_uri": "https://localhost:8080/"
        },
        "id": "5b9XFnp7SVtP",
        "outputId": "2d1ae911-6d28-4a47-9bca-af8149a007be"
      },
      "execution_count": null,
      "outputs": [
        {
          "output_type": "stream",
          "name": "stdout",
          "text": [
            "total 40\n",
            "-rw-r--r-- 1 root root 5969 Oct 22  2019 googlelogo_color_272x92dp.png\n",
            "-rw-r--r-- 1 root root 5969 Oct 22  2019 googlelogo_color_272x92dp.png.1\n",
            "-rw-r--r-- 1 root root 5969 Oct 22  2019 googlelogo_color_272x92dp.png.2\n",
            "-rw-r--r-- 1 root root 5969 Aug  7 19:13 google.png\n",
            "drwxr-xr-x 1 root root 4096 Aug  6 13:32 sample_data\n",
            "---------- 1 root root    0 Aug  7 19:24 test.txt\n",
            "drwxr-xr-x 3 root root 4096 Aug  7 19:03 www.google.com\n",
            "total 40\n",
            "-rw-r--r-- 1 root root 5969 Oct 22  2019 googlelogo_color_272x92dp.png\n",
            "-rw-r--r-- 1 root root 5969 Oct 22  2019 googlelogo_color_272x92dp.png.1\n",
            "-rw-r--r-- 1 root root 5969 Oct 22  2019 googlelogo_color_272x92dp.png.2\n",
            "-rw-r--r-- 1 root root 5969 Aug  7 19:13 google.png\n",
            "drwxr-xr-x 1 root root 4096 Aug  6 13:32 sample_data\n",
            "-rwxrwxrwx 1 root root    0 Aug  7 19:24 test.txt\n",
            "drwxr-xr-x 3 root root 4096 Aug  7 19:03 www.google.com\n"
          ]
        }
      ]
    },
    {
      "cell_type": "code",
      "source": [
        "!ls -l\n",
        "!chmod 060 test.txt\n",
        "!ls -l"
      ],
      "metadata": {
        "colab": {
          "base_uri": "https://localhost:8080/"
        },
        "id": "1ws8c6n3S6FI",
        "outputId": "8fd94d44-b5d1-4210-82e2-b9490a323a44"
      },
      "execution_count": null,
      "outputs": [
        {
          "output_type": "stream",
          "name": "stdout",
          "text": [
            "total 40\n",
            "-rw-r--r-- 1 root root 5969 Oct 22  2019 googlelogo_color_272x92dp.png\n",
            "-rw-r--r-- 1 root root 5969 Oct 22  2019 googlelogo_color_272x92dp.png.1\n",
            "-rw-r--r-- 1 root root 5969 Oct 22  2019 googlelogo_color_272x92dp.png.2\n",
            "-rw-r--r-- 1 root root 5969 Aug  7 19:13 google.png\n",
            "drwxr-xr-x 1 root root 4096 Aug  6 13:32 sample_data\n",
            "-rwxrwxrwx 1 root root    0 Aug  7 19:24 test.txt\n",
            "drwxr-xr-x 3 root root 4096 Aug  7 19:03 www.google.com\n",
            "total 40\n",
            "-rw-r--r-- 1 root root 5969 Oct 22  2019 googlelogo_color_272x92dp.png\n",
            "-rw-r--r-- 1 root root 5969 Oct 22  2019 googlelogo_color_272x92dp.png.1\n",
            "-rw-r--r-- 1 root root 5969 Oct 22  2019 googlelogo_color_272x92dp.png.2\n",
            "-rw-r--r-- 1 root root 5969 Aug  7 19:13 google.png\n",
            "drwxr-xr-x 1 root root 4096 Aug  6 13:32 sample_data\n",
            "----rw---- 1 root root    0 Aug  7 19:24 test.txt\n",
            "drwxr-xr-x 3 root root 4096 Aug  7 19:03 www.google.com\n"
          ]
        }
      ]
    },
    {
      "cell_type": "markdown",
      "source": [
        "## <u>**Users and Groups**</u>"
      ],
      "metadata": {
        "id": "SqKLcNExJKN_"
      }
    },
    {
      "cell_type": "markdown",
      "source": [
        "<table>\n",
        "<th>Command</th>\n",
        "<th>\n",
        "</table>"
      ],
      "metadata": {
        "id": "7guW_1vBXbab"
      }
    },
    {
      "cell_type": "markdown",
      "source": [
        "### **1.** useradd"
      ],
      "metadata": {
        "id": "slkdxoEkUMta"
      }
    },
    {
      "cell_type": "markdown",
      "source": [
        "#### Create A New User\n",
        "\n",
        " useradd is a low level utility for adding users. On Debian, administrators should usually use adduser instead.\n",
        "Useful useradd options:\n",
        "\n",
        "<ul> <li><code>-m</code> – Create the user’s home directory.</li> <li><code>-g</code> – Specify the primary group instead of the default.</li> <li><code>-s</code> – Set the user’s login shell.</li> </ul>\n"
      ],
      "metadata": {
        "id": "bahrTMbSUgWc"
      }
    },
    {
      "cell_type": "markdown",
      "source": [
        "#### Example"
      ],
      "metadata": {
        "id": "yVrXp0ZWU7T8"
      }
    },
    {
      "cell_type": "code",
      "source": [
        "!useradd -m new"
      ],
      "metadata": {
        "colab": {
          "base_uri": "https://localhost:8080/"
        },
        "id": "i1aq7dY0UMJg",
        "outputId": "cfc46f93-f723-49fb-8487-e2fb4ae69581"
      },
      "execution_count": null,
      "outputs": [
        {
          "output_type": "stream",
          "name": "stdout",
          "text": [
            "useradd: user 'new' already exists\n"
          ]
        }
      ]
    },
    {
      "cell_type": "markdown",
      "source": [
        "### **2.** usermod"
      ],
      "metadata": {
        "id": "nVUr1qqbV8wJ"
      }
    },
    {
      "cell_type": "markdown",
      "source": [
        "#### Modify A User Account\n",
        " The usermod command modifies the system account files to reflect the changes that are specified on the command line.\n",
        "\n",
        " Example: `usermod -aG developers john`\n"
      ],
      "metadata": {
        "id": "Y28d4v6PWGy2"
      }
    },
    {
      "cell_type": "code",
      "source": [
        "!usermod -aG developers new"
      ],
      "metadata": {
        "colab": {
          "base_uri": "https://localhost:8080/"
        },
        "id": "B-lpsXJoVFsn",
        "outputId": "9a0e8b67-4774-4767-db4d-bc3e2cc29d6c"
      },
      "execution_count": null,
      "outputs": [
        {
          "output_type": "stream",
          "name": "stdout",
          "text": [
            "usermod: group 'developers' does not exist\n"
          ]
        }
      ]
    },
    {
      "cell_type": "markdown",
      "source": [
        "### **3.** userdel"
      ],
      "metadata": {
        "id": "MTYa_Hi0xnEl"
      }
    },
    {
      "cell_type": "markdown",
      "source": [
        "#### Delete A User Account\n",
        "\n",
        "The userdel command modifies the system account files, deleting all entries that refer to the user name LOGIN.\n",
        "       The named user must exist.\n",
        "\n",
        "`userdel [options] LOGIN`\n",
        "\n",
        "Helpful userdel options:\n",
        "<ul> <li><code>-r</code> – Remove the user’s home directory and mail spool.</li> <li><code>-f</code> – Force deletion even if the user is still logged in.</li> </ul>"
      ],
      "metadata": {
        "id": "3djMNboox44M"
      }
    },
    {
      "cell_type": "markdown",
      "source": [
        "#### Example"
      ],
      "metadata": {
        "id": "uAb_y-x5ysjt"
      }
    },
    {
      "cell_type": "markdown",
      "source": [],
      "metadata": {
        "id": "KDrrHIwdye5K"
      }
    },
    {
      "cell_type": "code",
      "source": [],
      "metadata": {
        "id": "x_ysbuCTx4JL"
      },
      "execution_count": null,
      "outputs": []
    },
    {
      "cell_type": "markdown",
      "source": [],
      "metadata": {
        "id": "AdjiDH31bhpa"
      }
    },
    {
      "cell_type": "markdown",
      "source": [
        "## <u>**Networking**</u>"
      ],
      "metadata": {
        "id": "vs5uve99bh__"
      }
    },
    {
      "cell_type": "code",
      "source": [
        "'Installing packages that contain certain networking commands'\n",
        "!sudo apt install net-tools iputils-ping traceroute dnsutils -y"
      ],
      "metadata": {
        "colab": {
          "base_uri": "https://localhost:8080/"
        },
        "id": "pXBPuRVUvlNA",
        "outputId": "002f4518-33d5-44ce-e129-4a74bcc4ac6b",
        "collapsed": true
      },
      "execution_count": null,
      "outputs": [
        {
          "output_type": "stream",
          "name": "stdout",
          "text": [
            "Reading package lists... Done\n",
            "Building dependency tree... Done\n",
            "Reading state information... Done\n",
            "The following additional packages will be installed:\n",
            "  bind9-dnsutils bind9-host bind9-libs liblmdb0 libmaxminddb0\n",
            "Suggested packages:\n",
            "  mmdb-bin\n",
            "The following NEW packages will be installed:\n",
            "  bind9-dnsutils bind9-host bind9-libs dnsutils iputils-ping liblmdb0\n",
            "  libmaxminddb0 net-tools traceroute\n",
            "0 upgraded, 9 newly installed, 0 to remove and 45 not upgraded.\n",
            "Need to get 1,834 kB of archives.\n",
            "After this operation, 5,631 kB of additional disk space will be used.\n",
            "Get:1 http://archive.ubuntu.com/ubuntu jammy/main amd64 iputils-ping amd64 3:20211215-1 [42.9 kB]\n",
            "Get:2 http://archive.ubuntu.com/ubuntu jammy/main amd64 liblmdb0 amd64 0.9.24-1build2 [47.6 kB]\n",
            "Get:3 http://archive.ubuntu.com/ubuntu jammy/main amd64 libmaxminddb0 amd64 1.5.2-1build2 [24.7 kB]\n",
            "Get:4 http://archive.ubuntu.com/ubuntu jammy-updates/main amd64 bind9-libs amd64 1:9.18.28-0ubuntu0.22.04.1 [1,256 kB]\n",
            "Get:5 http://archive.ubuntu.com/ubuntu jammy-updates/main amd64 bind9-host amd64 1:9.18.28-0ubuntu0.22.04.1 [52.6 kB]\n",
            "Get:6 http://archive.ubuntu.com/ubuntu jammy-updates/main amd64 bind9-dnsutils amd64 1:9.18.28-0ubuntu0.22.04.1 [157 kB]\n",
            "Get:7 http://archive.ubuntu.com/ubuntu jammy-updates/universe amd64 dnsutils all 1:9.18.28-0ubuntu0.22.04.1 [3,924 B]\n",
            "Get:8 http://archive.ubuntu.com/ubuntu jammy/main amd64 net-tools amd64 1.60+git20181103.0eebece-1ubuntu5 [204 kB]\n",
            "Get:9 http://archive.ubuntu.com/ubuntu jammy/universe amd64 traceroute amd64 1:2.1.0-2 [45.4 kB]\n",
            "Fetched 1,834 kB in 1s (1,647 kB/s)\n",
            "debconf: unable to initialize frontend: Dialog\n",
            "debconf: (No usable dialog-like program is installed, so the dialog based frontend cannot be used. at /usr/share/perl5/Debconf/FrontEnd/Dialog.pm line 78, <> line 9.)\n",
            "debconf: falling back to frontend: Readline\n",
            "debconf: unable to initialize frontend: Readline\n",
            "debconf: (This frontend requires a controlling tty.)\n",
            "debconf: falling back to frontend: Teletype\n",
            "dpkg-preconfigure: unable to re-open stdin: \n",
            "Selecting previously unselected package iputils-ping.\n",
            "(Reading database ... 123594 files and directories currently installed.)\n",
            "Preparing to unpack .../0-iputils-ping_3%3a20211215-1_amd64.deb ...\n",
            "Unpacking iputils-ping (3:20211215-1) ...\n",
            "Selecting previously unselected package liblmdb0:amd64.\n",
            "Preparing to unpack .../1-liblmdb0_0.9.24-1build2_amd64.deb ...\n",
            "Unpacking liblmdb0:amd64 (0.9.24-1build2) ...\n",
            "Selecting previously unselected package libmaxminddb0:amd64.\n",
            "Preparing to unpack .../2-libmaxminddb0_1.5.2-1build2_amd64.deb ...\n",
            "Unpacking libmaxminddb0:amd64 (1.5.2-1build2) ...\n",
            "Selecting previously unselected package bind9-libs:amd64.\n",
            "Preparing to unpack .../3-bind9-libs_1%3a9.18.28-0ubuntu0.22.04.1_amd64.deb ...\n",
            "Unpacking bind9-libs:amd64 (1:9.18.28-0ubuntu0.22.04.1) ...\n",
            "Selecting previously unselected package bind9-host.\n",
            "Preparing to unpack .../4-bind9-host_1%3a9.18.28-0ubuntu0.22.04.1_amd64.deb ...\n",
            "Unpacking bind9-host (1:9.18.28-0ubuntu0.22.04.1) ...\n",
            "Selecting previously unselected package bind9-dnsutils.\n",
            "Preparing to unpack .../5-bind9-dnsutils_1%3a9.18.28-0ubuntu0.22.04.1_amd64.deb ...\n",
            "Unpacking bind9-dnsutils (1:9.18.28-0ubuntu0.22.04.1) ...\n",
            "Selecting previously unselected package dnsutils.\n",
            "Preparing to unpack .../6-dnsutils_1%3a9.18.28-0ubuntu0.22.04.1_all.deb ...\n",
            "Unpacking dnsutils (1:9.18.28-0ubuntu0.22.04.1) ...\n",
            "Selecting previously unselected package net-tools.\n",
            "Preparing to unpack .../7-net-tools_1.60+git20181103.0eebece-1ubuntu5_amd64.deb ...\n",
            "Unpacking net-tools (1.60+git20181103.0eebece-1ubuntu5) ...\n",
            "Selecting previously unselected package traceroute.\n",
            "Preparing to unpack .../8-traceroute_1%3a2.1.0-2_amd64.deb ...\n",
            "Unpacking traceroute (1:2.1.0-2) ...\n",
            "Setting up liblmdb0:amd64 (0.9.24-1build2) ...\n",
            "Setting up net-tools (1.60+git20181103.0eebece-1ubuntu5) ...\n",
            "Setting up traceroute (1:2.1.0-2) ...\n",
            "update-alternatives: using /usr/bin/traceroute.db to provide /usr/bin/traceroute (traceroute) in auto mode\n",
            "update-alternatives: using /usr/bin/traceroute6.db to provide /usr/bin/traceroute6 (traceroute6) in auto mode\n",
            "update-alternatives: using /usr/bin/lft.db to provide /usr/bin/lft (lft) in auto mode\n",
            "update-alternatives: using /usr/bin/traceproto.db to provide /usr/bin/traceproto (traceproto) in auto mode\n",
            "update-alternatives: using /usr/sbin/tcptraceroute.db to provide /usr/sbin/tcptraceroute (tcptraceroute) in auto mode\n",
            "Setting up libmaxminddb0:amd64 (1.5.2-1build2) ...\n",
            "Setting up iputils-ping (3:20211215-1) ...\n",
            "Setting up bind9-libs:amd64 (1:9.18.28-0ubuntu0.22.04.1) ...\n",
            "Setting up bind9-host (1:9.18.28-0ubuntu0.22.04.1) ...\n",
            "Setting up bind9-dnsutils (1:9.18.28-0ubuntu0.22.04.1) ...\n",
            "Setting up dnsutils (1:9.18.28-0ubuntu0.22.04.1) ...\n",
            "Processing triggers for libc-bin (2.35-0ubuntu3.4) ...\n",
            "/sbin/ldconfig.real: /usr/local/lib/libur_adapter_opencl.so.0 is not a symbolic link\n",
            "\n",
            "/sbin/ldconfig.real: /usr/local/lib/libur_loader.so.0 is not a symbolic link\n",
            "\n",
            "/sbin/ldconfig.real: /usr/local/lib/libtbbmalloc.so.2 is not a symbolic link\n",
            "\n",
            "/sbin/ldconfig.real: /usr/local/lib/libur_adapter_level_zero.so.0 is not a symbolic link\n",
            "\n",
            "/sbin/ldconfig.real: /usr/local/lib/libtbbmalloc_proxy.so.2 is not a symbolic link\n",
            "\n",
            "/sbin/ldconfig.real: /usr/local/lib/libtbb.so.12 is not a symbolic link\n",
            "\n",
            "/sbin/ldconfig.real: /usr/local/lib/libtbbbind.so.3 is not a symbolic link\n",
            "\n",
            "/sbin/ldconfig.real: /usr/local/lib/libtbbbind_2_0.so.3 is not a symbolic link\n",
            "\n",
            "/sbin/ldconfig.real: /usr/local/lib/libtbbbind_2_5.so.3 is not a symbolic link\n",
            "\n",
            "Processing triggers for man-db (2.10.2-1) ...\n"
          ]
        }
      ]
    },
    {
      "cell_type": "markdown",
      "source": [
        "### **1.** ping"
      ],
      "metadata": {
        "id": "L1zrufLdbiAA"
      }
    },
    {
      "cell_type": "markdown",
      "source": [
        "#### Send ICMP ECHO_REQUEST To Network Hosts\n",
        "\n",
        " `ping` uses the ICMP protocol's mandatory ECHO_REQUEST datagram to elicit an ICMP ECHO_RESPONSE from a host or\n",
        "       gateway. ECHO_REQUEST datagrams (“pings”) have an IP and ICMP header, followed by a struct timeval and then an\n",
        "       arbitrary number of “pad” bytes used to fill out the packet.\n",
        "\n",
        "Useful `ping` options:\n",
        "<ul> <li><code>-c [count]</code> – Limit packets sent.</li> <li><code>-i [interval]</code> – Wait interval seconds between pings.</li> </ul>\n"
      ],
      "metadata": {
        "id": "WedUA1RXbiAB"
      }
    },
    {
      "cell_type": "markdown",
      "source": [
        "#### Example\n",
        "\n"
      ],
      "metadata": {
        "id": "vCVTG7thbiAB"
      }
    },
    {
      "cell_type": "code",
      "source": [
        "!ping -c 4 -i 1 google.com"
      ],
      "metadata": {
        "colab": {
          "base_uri": "https://localhost:8080/"
        },
        "outputId": "45617460-506f-4a61-a979-9c2b2e5db090",
        "id": "tM6fx_ipbiAB"
      },
      "execution_count": null,
      "outputs": [
        {
          "output_type": "stream",
          "name": "stdout",
          "text": [
            "PING google.com (172.217.203.101) 56(84) bytes of data.\n",
            "64 bytes from uf-in-f101.1e100.net (172.217.203.101): icmp_seq=1 ttl=114 time=1.91 ms\n",
            "64 bytes from uf-in-f101.1e100.net (172.217.203.101): icmp_seq=2 ttl=114 time=0.406 ms\n",
            "64 bytes from uf-in-f101.1e100.net (172.217.203.101): icmp_seq=3 ttl=114 time=0.391 ms\n",
            "64 bytes from uf-in-f101.1e100.net (172.217.203.101): icmp_seq=4 ttl=114 time=0.393 ms\n",
            "\n",
            "--- google.com ping statistics ---\n",
            "4 packets transmitted, 4 received, 0% packet loss, time 3006ms\n",
            "rtt min/avg/max/mdev = 0.391/0.775/1.910/0.655 ms\n"
          ]
        }
      ]
    },
    {
      "cell_type": "markdown",
      "source": [
        "### **2.** ifconfig"
      ],
      "metadata": {
        "id": "cFHDde4CbiAC"
      }
    },
    {
      "cell_type": "markdown",
      "source": [
        "#### Configure Network Interfaces\n",
        "`ifconfig`  is  used to configure the kernel-resident network interfaces.  It is used at boot time to set up interfaces as necessary.  After that, it is usually only needed when debugging or when system tuning is needed.\n",
        "\n",
        "\n",
        "```bash\n",
        "ifconfig [-v] [-a] [-s] [interface]\n",
        "```"
      ],
      "metadata": {
        "id": "nqscaNQVbiAC"
      }
    },
    {
      "cell_type": "markdown",
      "source": [
        "#### Example"
      ],
      "metadata": {
        "id": "yMWEYlucbiAC"
      }
    },
    {
      "cell_type": "code",
      "source": [
        "!ifconfig"
      ],
      "metadata": {
        "colab": {
          "base_uri": "https://localhost:8080/"
        },
        "outputId": "9dcfbfa7-2209-48fe-82bd-7888cc2061b0",
        "id": "fph9OvQEbiAC"
      },
      "execution_count": null,
      "outputs": [
        {
          "output_type": "stream",
          "name": "stdout",
          "text": [
            "eth0: flags=4163<UP,BROADCAST,RUNNING,MULTICAST>  mtu 1500\n",
            "        inet 172.28.0.12  netmask 255.255.0.0  broadcast 172.28.255.255\n",
            "        ether 02:42:ac:1c:00:0c  txqueuelen 0  (Ethernet)\n",
            "        RX packets 768  bytes 1943969 (1.9 MB)\n",
            "        RX errors 0  dropped 0  overruns 0  frame 0\n",
            "        TX packets 682  bytes 105602 (105.6 KB)\n",
            "        TX errors 0  dropped 0 overruns 0  carrier 0  collisions 0\n",
            "\n",
            "lo: flags=73<UP,LOOPBACK,RUNNING>  mtu 65536\n",
            "        inet 127.0.0.1  netmask 255.0.0.0\n",
            "        loop  txqueuelen 1000  (Local Loopback)\n",
            "        RX packets 2150  bytes 729030 (729.0 KB)\n",
            "        RX errors 0  dropped 0  overruns 0  frame 0\n",
            "        TX packets 2150  bytes 729030 (729.0 KB)\n",
            "        TX errors 0  dropped 0 overruns 0  carrier 0  collisions 0\n",
            "\n"
          ]
        }
      ]
    },
    {
      "cell_type": "markdown",
      "source": [
        "### **3.** netstat"
      ],
      "metadata": {
        "id": "gL5vu7qDn27G"
      }
    },
    {
      "cell_type": "markdown",
      "source": [
        "#### Network Statistics\n",
        "\n",
        "Netstat  prints  information  about  the  Linux networking subsystem.\n",
        "\n"
      ],
      "metadata": {
        "id": "gWn7fNwvrrL7"
      }
    },
    {
      "cell_type": "markdown",
      "source": [
        "#### Example"
      ],
      "metadata": {
        "id": "00CzV7QDsfQc"
      }
    },
    {
      "cell_type": "code",
      "source": [
        "!netstat"
      ],
      "metadata": {
        "colab": {
          "base_uri": "https://localhost:8080/"
        },
        "id": "HIENLYjTshxm",
        "outputId": "dc65f8f2-5ca6-472d-88ef-047e4599b03a"
      },
      "execution_count": null,
      "outputs": [
        {
          "output_type": "stream",
          "name": "stdout",
          "text": [
            "Active Internet connections (w/o servers)\n",
            "Proto Recv-Q Send-Q Local Address           Foreign Address         State      \n",
            "tcp        0      0 fcffb70c77bd:9000       fcffb70c77bd:59966      ESTABLISHED\n",
            "tcp        0      0 fcffb70c77bd:6000       fcffb70c77bd:41988      TIME_WAIT  \n",
            "tcp        0      0 localhost:35897         localhost:60828         ESTABLISHED\n",
            "tcp        0      0 localhost:60828         localhost:35897         ESTABLISHED\n",
            "tcp        0      0 fcffb70c77bd:53640      fcffb70c77bd:9000       ESTABLISHED\n",
            "tcp        0      0 fcffb70c77bd:6000       fcffb70c77bd:33050      TIME_WAIT  \n",
            "tcp        0   1927 fcffb70c77bd:9000       fcffb70c77bd:53640      ESTABLISHED\n",
            "tcp        0      0 fcffb70c77bd:6000       fcffb70c77bd:33060      TIME_WAIT  \n",
            "tcp        0      0 fcffb70c77bd:6000       fcffb70c77bd:42906      TIME_WAIT  \n",
            "tcp        0      0 localhost:34619         localhost:56764         ESTABLISHED\n",
            "tcp        0      0 localhost:56764         localhost:34619         ESTABLISHED\n",
            "tcp        0      0 fcffb70c77bd:6000       fcffb70c77bd:50338      TIME_WAIT  \n",
            "tcp        0      0 fcffb70c77bd:6000       172.28.0.1:52886        ESTABLISHED\n",
            "tcp        0      0 fcffb70c77bd:59966      fcffb70c77bd:9000       ESTABLISHED\n",
            "tcp        0      0 fcffb70c77bd:6000       fcffb70c77bd:34360      TIME_WAIT  \n",
            "tcp        0      0 fcffb70c77bd:6000       fcffb70c77bd:47938      ESTABLISHED\n",
            "tcp        0      0 fcffb70c77bd:6000       fcffb70c77bd:50342      TIME_WAIT  \n",
            "tcp        0      0 fcffb70c77bd:6000       fcffb70c77bd:42000      TIME_WAIT  \n",
            "tcp        0      0 fcffb70c77bd:6000       fcffb70c77bd:45372      TIME_WAIT  \n",
            "tcp        0      0 fcffb70c77bd:47938      fcffb70c77bd:6000       ESTABLISHED\n",
            "tcp6       0      0 k_next.br0:8080         172.28.0.1:58042        ESTABLISHED\n",
            "tcp6       0      0 k_next.br0:8080         172.28.0.1:45424        ESTABLISHED\n",
            "tcp6       0      0 k_next.br0:8080         172.28.0.1:60266        TIME_WAIT  \n",
            "tcp6       0      0 k_next.br0:8080         172.28.0.1:60278        ESTABLISHED\n",
            "tcp6       0      0 k_next.br0:8080         172.28.0.1:48494        TIME_WAIT  \n",
            "tcp6       0      0 k_next.br0:8080         172.28.0.1:43598        TIME_WAIT  \n",
            "tcp6       0      0 k_next.br0:8080         172.28.0.1:43850        TIME_WAIT  \n",
            "tcp6       0      0 k_next.br0:8080         172.28.0.1:33902        TIME_WAIT  \n",
            "Active UNIX domain sockets (w/o servers)\n",
            "Proto RefCnt Flags       Type       State         I-Node   Path\n",
            "unix  3      [ ]         STREAM     CONNECTED     43587    \n",
            "unix  3      [ ]         STREAM     CONNECTED     41789    \n",
            "unix  3      [ ]         STREAM     CONNECTED     19835    \n",
            "unix  3      [ ]         STREAM     CONNECTED     41990    \n",
            "unix  3      [ ]         STREAM     CONNECTED     19839    \n",
            "unix  3      [ ]         STREAM     CONNECTED     19956    \n",
            "unix  3      [ ]         STREAM     CONNECTED     19837    \n",
            "unix  3      [ ]         STREAM     CONNECTED     41448    \n",
            "unix  3      [ ]         STREAM     CONNECTED     40960    \n",
            "unix  3      [ ]         STREAM     CONNECTED     41446    \n",
            "unix  3      [ ]         STREAM     CONNECTED     43586    \n",
            "unix  3      [ ]         STREAM     CONNECTED     41985    \n",
            "unix  3      [ ]         STREAM     CONNECTED     42808    /root/.local/share/jupyter/runtime/kernel-e8b10b2f-aef6-4a32-82b4-797a9aea4a32-ipc-3\n",
            "unix  3      [ ]         STREAM     CONNECTED     19844    \n",
            "unix  3      [ ]         STREAM     CONNECTED     43582    \n",
            "unix  3      [ ]         STREAM     CONNECTED     19836    \n",
            "unix  3      [ ]         STREAM     CONNECTED     42805    /root/.local/share/jupyter/runtime/kernel-e8b10b2f-aef6-4a32-82b4-797a9aea4a32-ipc-2\n",
            "unix  3      [ ]         STREAM     CONNECTED     44044    /tmp/debugger_u8pu3ge78\n",
            "unix  3      [ ]         STREAM     CONNECTED     19847    \n",
            "unix  3      [ ]         STREAM     CONNECTED     41788    \n",
            "unix  3      [ ]         STREAM     CONNECTED     19872    \n",
            "unix  3      [ ]         STREAM     CONNECTED     41449    /root/.local/share/jupyter/runtime/kernel-e8b10b2f-aef6-4a32-82b4-797a9aea4a32-ipc-4\n",
            "unix  3      [ ]         STREAM     CONNECTED     19845    \n",
            "unix  3      [ ]         STREAM     CONNECTED     41989    \n",
            "unix  3      [ ]         STREAM     CONNECTED     19838    \n",
            "unix  3      [ ]         STREAM     CONNECTED     41790    \n",
            "unix  3      [ ]         STREAM     CONNECTED     43584    \n",
            "unix  3      [ ]         STREAM     CONNECTED     19873    \n",
            "unix  3      [ ]         STREAM     CONNECTED     19955    \n",
            "unix  3      [ ]         STREAM     CONNECTED     43583    \n",
            "unix  3      [ ]         STREAM     CONNECTED     44043    \n",
            "unix  3      [ ]         STREAM     CONNECTED     41791    \n",
            "unix  3      [ ]         STREAM     CONNECTED     19848    \n",
            "unix  3      [ ]         STREAM     CONNECTED     42806    /root/.local/share/jupyter/runtime/kernel-e8b10b2f-aef6-4a32-82b4-797a9aea4a32-ipc-1\n",
            "unix  3      [ ]         STREAM     CONNECTED     19843    \n",
            "unix  3      [ ]         STREAM     CONNECTED     19846    \n",
            "unix  3      [ ]         STREAM     CONNECTED     42807    /root/.local/share/jupyter/runtime/kernel-e8b10b2f-aef6-4a32-82b4-797a9aea4a32-ipc-4\n",
            "unix  3      [ ]         STREAM     CONNECTED     43585    \n",
            "unix  3      [ ]         STREAM     CONNECTED     19840    \n",
            "unix  3      [ ]         STREAM     CONNECTED     41447    /root/.local/share/jupyter/runtime/kernel-e8b10b2f-aef6-4a32-82b4-797a9aea4a32-ipc-2\n"
          ]
        }
      ]
    },
    {
      "cell_type": "markdown",
      "source": [
        "### **4.** ss"
      ],
      "metadata": {
        "id": "72-ME57KsPMD"
      }
    },
    {
      "cell_type": "markdown",
      "source": [
        "#### Socket Statistics\n",
        "\n",
        "ss  is  used to dump socket statistics. It allows showing information similar to netstat.  It can display more\n",
        "       TCP and state information than other tools.\n",
        "\n"
      ],
      "metadata": {
        "id": "lGkXI4_osUP6"
      }
    },
    {
      "cell_type": "markdown",
      "source": [
        "#### Example"
      ],
      "metadata": {
        "id": "tCmY5bPJskh1"
      }
    },
    {
      "cell_type": "code",
      "source": [
        "!ss"
      ],
      "metadata": {
        "colab": {
          "base_uri": "https://localhost:8080/"
        },
        "id": "aecnexntslvR",
        "outputId": "8bf67bb8-5099-4a2c-91a2-eb036f08645f"
      },
      "execution_count": null,
      "outputs": [
        {
          "output_type": "stream",
          "name": "stdout",
          "text": [
            "Netid State Recv-Q Send-Q                                                                        Local Address:Port         Peer Address:Port Process\n",
            "u_str ESTAB 0      0                                                                                         * 43587                   * 43586       \n",
            "u_str ESTAB 0      0                                                                                         * 41789                   * 42806       \n",
            "u_str ESTAB 0      0                                                                                         * 19835                   * 19836       \n",
            "u_str ESTAB 0      0                                                                                         * 41990                   * 41989       \n",
            "u_str ESTAB 0      0                                                                                         * 19839                   * 19840       \n",
            "u_str ESTAB 0      0                                                                                         * 19956                   * 19955       \n",
            "u_str ESTAB 0      0                                                                                         * 19837                   * 19838       \n",
            "u_str ESTAB 0      0                                                                                         * 41448                   * 41449       \n",
            "u_str ESTAB 0      0                                                                                         * 40960                   * 41985       \n",
            "u_str ESTAB 0      0                                                                                         * 41446                   * 41447       \n",
            "u_str ESTAB 0      0                                                                                         * 43586                   * 43587       \n",
            "u_str ESTAB 0      0                                                                                         * 41985                   * 40960       \n",
            "u_str ESTAB 0      0      /root/.local/share/jupyter/runtime/kernel-e8b10b2f-aef6-4a32-82b4-797a9aea4a32-ipc-3 42808                   * 41791       \n",
            "u_str ESTAB 0      0                                                                                         * 19844                   * 19843       \n",
            "u_str ESTAB 0      0                                                                                         * 43582                   * 43583       \n",
            "u_str ESTAB 0      0                                                                                         * 19836                   * 19835       \n",
            "u_str ESTAB 0      0      /root/.local/share/jupyter/runtime/kernel-e8b10b2f-aef6-4a32-82b4-797a9aea4a32-ipc-2 42805                   * 41788       \n",
            "u_str ESTAB 0      0                                                                   /tmp/debugger_u8pu3ge78 44044                   * 44043       \n",
            "u_str ESTAB 0      0                                                                                         * 19847                   * 19848       \n",
            "u_str ESTAB 0      0                                                                                         * 41788                   * 42805       \n",
            "u_str ESTAB 0      0                                                                                         * 19872                   * 19873       \n",
            "u_str ESTAB 0      0      /root/.local/share/jupyter/runtime/kernel-e8b10b2f-aef6-4a32-82b4-797a9aea4a32-ipc-4 41449                   * 41448       \n",
            "u_str ESTAB 0      0                                                                                         * 19845                   * 19846       \n",
            "u_str ESTAB 0      0                                                                                         * 41989                   * 41990       \n",
            "u_str ESTAB 0      0                                                                                         * 19838                   * 19837       \n",
            "u_str ESTAB 0      0                                                                                         * 41790                   * 42807       \n",
            "u_str ESTAB 0      0                                                                                         * 43584                   * 43585       \n",
            "u_str ESTAB 0      0                                                                                         * 19873                   * 19872       \n",
            "u_str ESTAB 0      0                                                                                         * 19955                   * 19956       \n",
            "u_str ESTAB 0      0                                                                                         * 43583                   * 43582       \n",
            "u_str ESTAB 0      0                                                                                         * 44043                   * 44044       \n",
            "u_str ESTAB 0      0                                                                                         * 41791                   * 42808       \n",
            "u_str ESTAB 0      0                                                                                         * 19848                   * 19847       \n",
            "u_str ESTAB 0      0      /root/.local/share/jupyter/runtime/kernel-e8b10b2f-aef6-4a32-82b4-797a9aea4a32-ipc-1 42806                   * 41789       \n",
            "u_str ESTAB 0      0                                                                                         * 19843                   * 19844       \n",
            "u_str ESTAB 0      0                                                                                         * 19846                   * 19845       \n",
            "u_str ESTAB 0      0      /root/.local/share/jupyter/runtime/kernel-e8b10b2f-aef6-4a32-82b4-797a9aea4a32-ipc-4 42807                   * 41790       \n",
            "u_str ESTAB 0      0                                                                                         * 43585                   * 43584       \n",
            "u_str ESTAB 0      0                                                                                         * 19840                   * 19839       \n",
            "u_str ESTAB 0      0      /root/.local/share/jupyter/runtime/kernel-e8b10b2f-aef6-4a32-82b4-797a9aea4a32-ipc-2 41447                   * 41446       \n",
            "tcp   ESTAB 0      0                                                                               172.28.0.12:9000          172.28.0.12:59966       \n",
            "tcp   ESTAB 0      0                                                                                 127.0.0.1:35897           127.0.0.1:60828       \n",
            "tcp   ESTAB 0      0                                                                                 127.0.0.1:60828           127.0.0.1:35897       \n",
            "tcp   ESTAB 0      0                                                                               172.28.0.12:53640         172.28.0.12:9000        \n",
            "tcp   ESTAB 0      0                                                                               172.28.0.12:9000          172.28.0.12:53640       \n",
            "tcp   ESTAB 0      0                                                                                 127.0.0.1:34619           127.0.0.1:56764       \n",
            "tcp   ESTAB 0      0                                                                                 127.0.0.1:56764           127.0.0.1:34619       \n",
            "tcp   ESTAB 0      0                                                                               172.28.0.12:6000           172.28.0.1:52886       \n",
            "tcp   ESTAB 0      0                                                                               172.28.0.12:59966         172.28.0.12:9000        \n",
            "tcp   ESTAB 0      0                                                                               172.28.0.12:6000          172.28.0.12:47938       \n",
            "tcp   ESTAB 0      0                                                                               172.28.0.12:47938         172.28.0.12:6000        \n",
            "tcp   ESTAB 0      0                                                                      [::ffff:172.28.0.12]:8080  [::ffff:172.28.0.1]:45424       \n",
            "tcp   ESTAB 0      0                                                                      [::ffff:172.28.0.12]:8080  [::ffff:172.28.0.1]:59280       \n",
            "tcp   ESTAB 0      0                                                                      [::ffff:172.28.0.12]:8080  [::ffff:172.28.0.1]:52064       \n"
          ]
        }
      ]
    },
    {
      "cell_type": "markdown",
      "source": [
        "### **5.** traceroute"
      ],
      "metadata": {
        "id": "95BjHlmcsxwQ"
      }
    },
    {
      "cell_type": "markdown",
      "source": [
        "#### Trace Route to Host\n",
        "\n",
        " `traceroute`  tracks the route packets taken from an IP network on their way to a given host. It utilizes the IP\n",
        "       protocol's time to live (TTL) field and attempts to elicit an ICMP TIME_EXCEEDED response  from  each  gateway\n",
        "       along the path to the host.\n",
        "\n"
      ],
      "metadata": {
        "id": "aI8c_UjFs3wy"
      }
    },
    {
      "cell_type": "markdown",
      "source": [
        "#### Example"
      ],
      "metadata": {
        "id": "Z-EiTTJEwbP_"
      }
    },
    {
      "cell_type": "code",
      "source": [
        "!traceroute google.com"
      ],
      "metadata": {
        "colab": {
          "base_uri": "https://localhost:8080/"
        },
        "id": "zBXW1AidwliI",
        "outputId": "9c69c7bd-ffb8-49c0-9e67-1aaf815f8a05"
      },
      "execution_count": null,
      "outputs": [
        {
          "output_type": "stream",
          "name": "stdout",
          "text": [
            "traceroute to google.com (172.217.203.102), 30 hops max, 60 byte packets\n",
            " 1  172.28.0.1 (172.28.0.1)  0.039 ms  0.010 ms  0.007 ms\n",
            " 2  * * *\n",
            " 3  216.239.47.26 (216.239.47.26)  2.800 ms 142.250.60.46 (142.250.60.46)  2.356 ms 142.250.60.42 (142.250.60.42)  9.169 ms\n",
            " 4  216.239.57.31 (216.239.57.31)  4.432 ms 209.85.241.27 (209.85.241.27)  4.031 ms 209.85.249.195 (209.85.249.195)  3.835 ms\n",
            " 5  108.170.236.97 (108.170.236.97)  2.061 ms 172.253.79.235 (172.253.79.235)  2.806 ms 108.170.236.97 (108.170.236.97)  1.892 ms\n",
            " 6  209.85.247.169 (209.85.247.169)  2.616 ms 74.125.253.115 (74.125.253.115)  1.307 ms 74.125.253.117 (74.125.253.117)  1.271 ms\n",
            " 7  * * *\n",
            " 8  * * *\n",
            " 9  * * *\n",
            "10  * * *\n",
            "11  * * *\n",
            "12  * * *\n",
            "13  * * uf-in-f102.1e100.net (172.217.203.102)  0.430 ms\n"
          ]
        }
      ]
    },
    {
      "cell_type": "markdown",
      "source": [
        "### **6.** dig"
      ],
      "metadata": {
        "id": "vw1nU7HOvuOJ"
      }
    },
    {
      "cell_type": "markdown",
      "source": [
        "#### DNS Lookup\n",
        "\n",
        " `dig` is a flexible tool for interrogating DNS name servers. It performs DNS lookups and  displays  the  answers\n",
        "       that  are  returned from the name server(s) that were queried. Most DNS administrators use dig to troubleshoot\n",
        "       DNS problems because of its flexibility, ease of use, and clarity of output. Other lookup tools tend  to  have\n",
        "       less functionality than `dig`."
      ],
      "metadata": {
        "id": "GTSGFHgNwpcR"
      }
    },
    {
      "cell_type": "markdown",
      "source": [
        "#### Example\n"
      ],
      "metadata": {
        "id": "zZxWMwFrw5Ev"
      }
    },
    {
      "cell_type": "code",
      "source": [
        "!dig google.com"
      ],
      "metadata": {
        "colab": {
          "base_uri": "https://localhost:8080/"
        },
        "id": "HA42wJ6fwxrt",
        "outputId": "3491a5c9-7910-4d89-e354-0ae3a106019d"
      },
      "execution_count": null,
      "outputs": [
        {
          "output_type": "stream",
          "name": "stdout",
          "text": [
            "\n",
            "; <<>> DiG 9.18.28-0ubuntu0.22.04.1-Ubuntu <<>> google.com\n",
            ";; global options: +cmd\n",
            ";; Got answer:\n",
            ";; ->>HEADER<<- opcode: QUERY, status: NOERROR, id: 11426\n",
            ";; flags: qr rd ra; QUERY: 1, ANSWER: 6, AUTHORITY: 0, ADDITIONAL: 1\n",
            "\n",
            ";; OPT PSEUDOSECTION:\n",
            "; EDNS: version: 0, flags:; udp: 512\n",
            ";; QUESTION SECTION:\n",
            ";google.com.\t\t\tIN\tA\n",
            "\n",
            ";; ANSWER SECTION:\n",
            "google.com.\t\t283\tIN\tA\t172.217.203.102\n",
            "google.com.\t\t283\tIN\tA\t172.217.203.138\n",
            "google.com.\t\t283\tIN\tA\t172.217.203.100\n",
            "google.com.\t\t283\tIN\tA\t172.217.203.139\n",
            "google.com.\t\t283\tIN\tA\t172.217.203.101\n",
            "google.com.\t\t283\tIN\tA\t172.217.203.113\n",
            "\n",
            ";; Query time: 1 msec\n",
            ";; SERVER: 127.0.0.11#53(127.0.0.11) (UDP)\n",
            ";; WHEN: Sat Aug 10 09:25:36 UTC 2024\n",
            ";; MSG SIZE  rcvd: 135\n",
            "\n"
          ]
        }
      ]
    },
    {
      "cell_type": "markdown",
      "source": [
        "### **7.** nslookup\n"
      ],
      "metadata": {
        "id": "UN4XGx4Txai4"
      }
    },
    {
      "cell_type": "markdown",
      "source": [
        "#### Query Internet Name Servers Interactively\n",
        "\n",
        " nslookup  is a program to query Internet domain name servers.  nslookup has two modes:\n",
        "\n",
        " > Interactive mode allows the user to query name servers for information about various hosts and  domains or to print a list of hosts in a domain.\n",
        "```bash\n",
        " ~$ nslookup\n",
        "> set type=A\n",
        "> stackoverflow.com\n",
        "Server: 8.8.8.8\n",
        "Address: 8.8.8.8#53\n",
        "Non-authoritative answer:\n",
        "Name: stackoverflow.com\n",
        "Address: 104.18.32.7\n",
        "Name: stackoverflow.com\n",
        "Address: 172.64.155.249\n",
        " ```\n",
        "\n",
        "\n",
        "\n",
        "> Non-interactive mode prints just the name and requested information for a host or domain.\n",
        "```bash\n",
        "~$ nslookup stackoverflow.com\n",
        "Server:         10.255.255.254\n",
        "Address:        10.255.255.254#53\n",
        ">\n",
        ">Non-authoritative answer:\n",
        "Name:   stackoverflow.com\n",
        "Address: 172.64.155.249\n",
        "Name:   stackoverflow.com\n",
        "Address: 104.18.32.7\n",
        "```\n",
        "\n"
      ],
      "metadata": {
        "id": "aTRfJuR1xmsN"
      }
    },
    {
      "cell_type": "markdown",
      "source": [
        "#### Example"
      ],
      "metadata": {
        "id": "z2cTnTW-zqrh"
      }
    },
    {
      "cell_type": "code",
      "source": [
        "!nslookup\n"
      ],
      "metadata": {
        "colab": {
          "base_uri": "https://localhost:8080/"
        },
        "id": "BM3F4p74nAtN",
        "outputId": "4f386861-8695-4009-cca3-866fc2b19f43"
      },
      "execution_count": null,
      "outputs": [
        {
          "output_type": "stream",
          "name": "stdout",
          "text": [
            "> set type=A\n",
            "> "
          ]
        }
      ]
    },
    {
      "cell_type": "code",
      "source": [
        "!nslookup google.com"
      ],
      "metadata": {
        "colab": {
          "base_uri": "https://localhost:8080/"
        },
        "id": "O6efjDO3zthL",
        "outputId": "5623cdda-1b2b-43c0-cd83-fff5a19a996b"
      },
      "execution_count": null,
      "outputs": [
        {
          "output_type": "stream",
          "name": "stdout",
          "text": [
            "Server:\t\t127.0.0.11\n",
            "Address:\t127.0.0.11#53\n",
            "\n",
            "Non-authoritative answer:\n",
            "Name:\tgoogle.com\n",
            "Address: 172.217.203.139\n",
            "Name:\tgoogle.com\n",
            "Address: 172.217.203.102\n",
            "Name:\tgoogle.com\n",
            "Address: 172.217.203.138\n",
            "Name:\tgoogle.com\n",
            "Address: 172.217.203.101\n",
            "Name:\tgoogle.com\n",
            "Address: 172.217.203.113\n",
            "Name:\tgoogle.com\n",
            "Address: 172.217.203.100\n",
            "Name:\tgoogle.com\n",
            "Address: 2607:f8b0:400c:c07::65\n",
            "Name:\tgoogle.com\n",
            "Address: 2607:f8b0:400c:c07::64\n",
            "Name:\tgoogle.com\n",
            "Address: 2607:f8b0:400c:c07::71\n",
            "Name:\tgoogle.com\n",
            "Address: 2607:f8b0:400c:c07::8a\n",
            "\n"
          ]
        }
      ]
    },
    {
      "cell_type": "markdown",
      "source": [
        "### **8.** iptables"
      ],
      "metadata": {
        "id": "JeMIiKCBzwjw"
      }
    },
    {
      "cell_type": "markdown",
      "source": [
        "#### IPv4 Packet Filtering And NAT\n",
        "\n",
        " Iptables  and  ip6tables  are  used  to  set up, maintain, and inspect the tables of IPv4 and IPv6\n",
        "       packet filter rules in the Linux kernel.  Several different tables may  be  defined.   Each  table\n",
        "       contains a number of built-in chains and may also contain user-defined chains.\n"
      ],
      "metadata": {
        "id": "ac4hamwzz0_e"
      }
    },
    {
      "cell_type": "markdown",
      "source": [
        "#### Example"
      ],
      "metadata": {
        "id": "W6_74NjK0uzL"
      }
    },
    {
      "cell_type": "code",
      "source": [
        "!iptables --verbose --numeric --list --line-numbers"
      ],
      "metadata": {
        "colab": {
          "base_uri": "https://localhost:8080/"
        },
        "id": "6RHV1dxctAL6",
        "outputId": "044fc779-83b9-44dc-97d3-b27bdc6afef6"
      },
      "execution_count": null,
      "outputs": [
        {
          "output_type": "stream",
          "name": "stdout",
          "text": [
            "/bin/bash: line 1: iptables: command not found\n"
          ]
        }
      ]
    },
    {
      "cell_type": "markdown",
      "source": [
        "### **9.** ip"
      ],
      "metadata": {
        "id": "jB6NHo0L1a4O"
      }
    },
    {
      "cell_type": "markdown",
      "source": [
        "#### Manage Network Devices And Routing\n",
        "\n",
        "The ip command allows managing and monitoring various network device related activities like assigning IP addresses, setting up subnets, displaying link details, and configuring routing options.\n",
        "\n",
        "`ip [ OPTIONS ] OBJECT { COMMAND | help }`"
      ],
      "metadata": {
        "id": "eOkRaOSH1fRt"
      }
    },
    {
      "cell_type": "markdown",
      "source": [
        "#### Example"
      ],
      "metadata": {
        "id": "Aj3QM5O81thu"
      }
    },
    {
      "cell_type": "code",
      "source": [
        "!ip"
      ],
      "metadata": {
        "colab": {
          "base_uri": "https://localhost:8080/"
        },
        "id": "809efANw0Pzf",
        "outputId": "6f81b1c9-a259-4850-de75-902c3c70cb74"
      },
      "execution_count": null,
      "outputs": [
        {
          "output_type": "stream",
          "name": "stdout",
          "text": [
            "Usage: ip [ OPTIONS ] OBJECT { COMMAND | help }\n",
            "       ip [ -force ] -batch filename\n",
            "where  OBJECT := { address | addrlabel | fou | help | ila | ioam | l2tp | link |\n",
            "                   macsec | maddress | monitor | mptcp | mroute | mrule |\n",
            "                   neighbor | neighbour | netconf | netns | nexthop | ntable |\n",
            "                   ntbl | route | rule | sr | tap | tcpmetrics |\n",
            "                   token | tunnel | tuntap | vrf | xfrm }\n",
            "       OPTIONS := { -V[ersion] | -s[tatistics] | -d[etails] | -r[esolve] |\n",
            "                    -h[uman-readable] | -iec | -j[son] | -p[retty] |\n",
            "                    -f[amily] { inet | inet6 | mpls | bridge | link } |\n",
            "                    -4 | -6 | -M | -B | -0 |\n",
            "                    -l[oops] { maximum-addr-flush-attempts } | -br[ief] |\n",
            "                    -o[neline] | -t[imestamp] | -ts[hort] | -b[atch] [filename] |\n",
            "                    -rc[vbuf] [size] | -n[etns] name | -N[umeric] | -a[ll] |\n",
            "                    -c[olor]}\n"
          ]
        }
      ]
    },
    {
      "cell_type": "code",
      "source": [
        "!ip addr"
      ],
      "metadata": {
        "colab": {
          "base_uri": "https://localhost:8080/"
        },
        "id": "dP63sOMF1_CO",
        "outputId": "afc6d8fd-3cea-4484-b0c9-b6a16b55778e"
      },
      "execution_count": null,
      "outputs": [
        {
          "output_type": "stream",
          "name": "stdout",
          "text": [
            "1: lo: <LOOPBACK,UP,LOWER_UP> mtu 65536 qdisc noqueue state UNKNOWN group default qlen 1000\n",
            "    link/loopback 00:00:00:00:00:00 brd 00:00:00:00:00:00\n",
            "    inet 127.0.0.1/8 scope host lo\n",
            "       valid_lft forever preferred_lft forever\n",
            "7: eth0@if8: <BROADCAST,MULTICAST,UP,LOWER_UP> mtu 1500 qdisc noqueue state UP group default \n",
            "    link/ether 02:42:ac:1c:00:0c brd ff:ff:ff:ff:ff:ff link-netnsid 0\n",
            "    inet 172.28.0.12/16 brd 172.28.255.255 scope global eth0\n",
            "       valid_lft forever preferred_lft forever\n"
          ]
        }
      ]
    }
  ]
}